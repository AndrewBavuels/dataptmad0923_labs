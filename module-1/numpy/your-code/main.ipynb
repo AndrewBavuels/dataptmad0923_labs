{
 "cells": [
  {
   "cell_type": "markdown",
   "metadata": {},
   "source": [
    "# Introduction to NumPy\n",
    "\n",
    "\n",
    "#### 1. Import NumPy under the name np."
   ]
  },
  {
   "cell_type": "code",
   "execution_count": 1,
   "metadata": {},
   "outputs": [],
   "source": [
    "# your code here\n",
    "import numpy as np"
   ]
  },
  {
   "cell_type": "markdown",
   "metadata": {},
   "source": [
    "#### 2. Print your NumPy version."
   ]
  },
  {
   "cell_type": "code",
   "execution_count": 2,
   "metadata": {},
   "outputs": [
    {
     "name": "stdout",
     "output_type": "stream",
     "text": [
      "1.25.2\n"
     ]
    }
   ],
   "source": [
    "# your code here (https://www.delftstack.com/es/howto/numpy/numpy-version-python/)\n",
    "\n",
    "print(np.__version__)"
   ]
  },
  {
   "cell_type": "markdown",
   "metadata": {},
   "source": [
    "#### 3. Generate a 2x3x5 3-dimensional array with random values. Assign the array to variable *a*.\n",
    "**Challenge**: there are at least three easy ways that use numpy to generate random arrays. How many ways can you find?"
   ]
  },
  {
   "cell_type": "code",
   "execution_count": 3,
   "metadata": {},
   "outputs": [
    {
     "name": "stdout",
     "output_type": "stream",
     "text": [
      "3\n"
     ]
    }
   ],
   "source": [
    "# Method 1 => np.linspace()\n",
    "\n",
    "a = np.linspace(1, 83, 30)\n",
    "a = np.array(np.round(a,2))\n",
    "a = a.reshape((2,3,5))\n",
    "a_method_1 = a\n",
    "print(a_method_1.ndim)"
   ]
  },
  {
   "cell_type": "code",
   "execution_count": 4,
   "metadata": {},
   "outputs": [
    {
     "name": "stdout",
     "output_type": "stream",
     "text": [
      "3\n"
     ]
    }
   ],
   "source": [
    "# Method 2 => np.random.rand()\n",
    "a = np.random.rand(2,3,5)\n",
    "a = np.array(np.round(a,2))\n",
    "a_method_2 = a\n",
    "print(a_method_2.ndim)"
   ]
  },
  {
   "cell_type": "code",
   "execution_count": 5,
   "metadata": {},
   "outputs": [
    {
     "name": "stdout",
     "output_type": "stream",
     "text": [
      "3\n"
     ]
    }
   ],
   "source": [
    "# Method 3 => np.random.rand()\n",
    "a = np.random.randint(1, 83, (2,3,5))\n",
    "a = np.array(np.round(a,2))\n",
    "a_method_3 = a\n",
    "print(a_method_3.ndim)"
   ]
  },
  {
   "cell_type": "markdown",
   "metadata": {},
   "source": [
    "#### 4. Print *a*.\n"
   ]
  },
  {
   "cell_type": "code",
   "execution_count": 6,
   "metadata": {},
   "outputs": [
    {
     "name": "stdout",
     "output_type": "stream",
     "text": [
      "[[[ 1.    3.83  6.66  9.48 12.31]\n",
      "  [15.14 17.97 20.79 23.62 26.45]\n",
      "  [29.28 32.1  34.93 37.76 40.59]]\n",
      "\n",
      " [[43.41 46.24 49.07 51.9  54.72]\n",
      "  [57.55 60.38 63.21 66.03 68.86]\n",
      "  [71.69 74.52 77.34 80.17 83.  ]]]\n",
      "(2, 3, 5)\n"
     ]
    }
   ],
   "source": [
    "# your code here (a_method_1)\n",
    "print(a_method_1)\n",
    "print(a_method_1.shape)"
   ]
  },
  {
   "cell_type": "code",
   "execution_count": 7,
   "metadata": {},
   "outputs": [
    {
     "name": "stdout",
     "output_type": "stream",
     "text": [
      "[[[0.95 0.46 0.22 0.86 0.43]\n",
      "  [0.1  0.95 0.38 0.2  0.01]\n",
      "  [0.4  0.92 0.09 0.47 0.27]]\n",
      "\n",
      " [[0.75 0.66 0.23 0.26 0.43]\n",
      "  [0.37 0.8  0.09 0.9  0.9 ]\n",
      "  [0.08 0.49 0.24 0.78 0.56]]]\n",
      "(2, 3, 5)\n"
     ]
    }
   ],
   "source": [
    "# your code here (a_method_2)\n",
    "print(a_method_2)\n",
    "print(a_method_2.shape)"
   ]
  },
  {
   "cell_type": "code",
   "execution_count": 8,
   "metadata": {},
   "outputs": [
    {
     "name": "stdout",
     "output_type": "stream",
     "text": [
      "[[[79 25 58 65 19]\n",
      "  [12 77 34  6 18]\n",
      "  [34 67 32 61 16]]\n",
      "\n",
      " [[65 59 17 19 31]\n",
      "  [41 43 59 32 16]\n",
      "  [31 58 23 42 15]]]\n",
      "(2, 3, 5)\n"
     ]
    }
   ],
   "source": [
    "# your code here (a_method_3)\n",
    "print(a_method_3)\n",
    "print(a_method_3.shape)"
   ]
  },
  {
   "cell_type": "markdown",
   "metadata": {},
   "source": [
    "#### 5. Create a 5x2x3 3-dimensional array with all values equaling 1. Assign the array to variable *b*."
   ]
  },
  {
   "cell_type": "code",
   "execution_count": 9,
   "metadata": {},
   "outputs": [
    {
     "name": "stdout",
     "output_type": "stream",
     "text": [
      "3\n"
     ]
    }
   ],
   "source": [
    "# your code here\n",
    "\n",
    "b = np.ones((5,2,3))\n",
    "print(b.ndim)"
   ]
  },
  {
   "cell_type": "markdown",
   "metadata": {},
   "source": [
    "#### 6. Print *b*.\n"
   ]
  },
  {
   "cell_type": "code",
   "execution_count": 10,
   "metadata": {},
   "outputs": [
    {
     "name": "stdout",
     "output_type": "stream",
     "text": [
      "[[[1. 1. 1.]\n",
      "  [1. 1. 1.]]\n",
      "\n",
      " [[1. 1. 1.]\n",
      "  [1. 1. 1.]]\n",
      "\n",
      " [[1. 1. 1.]\n",
      "  [1. 1. 1.]]\n",
      "\n",
      " [[1. 1. 1.]\n",
      "  [1. 1. 1.]]\n",
      "\n",
      " [[1. 1. 1.]\n",
      "  [1. 1. 1.]]]\n",
      "(5, 2, 3)\n"
     ]
    }
   ],
   "source": [
    "# your code here\n",
    "print(b)\n",
    "print(b.shape)"
   ]
  },
  {
   "cell_type": "markdown",
   "metadata": {},
   "source": [
    "#### 7. Do *a* and *b* have the same size? How do you prove that in Python code?"
   ]
  },
  {
   "cell_type": "code",
   "execution_count": 11,
   "metadata": {},
   "outputs": [
    {
     "data": {
      "text/plain": [
       "True"
      ]
     },
     "execution_count": 11,
     "metadata": {},
     "output_type": "execute_result"
    }
   ],
   "source": [
    "# your code here => .size\n",
    "a = a_method_1\n",
    "a.size == b.size"
   ]
  },
  {
   "cell_type": "markdown",
   "metadata": {},
   "source": [
    "#### 8. Are you able to add *a* and *b*? Why or why not?\n"
   ]
  },
  {
   "cell_type": "code",
   "execution_count": 12,
   "metadata": {},
   "outputs": [
    {
     "ename": "ValueError",
     "evalue": "operands could not be broadcast together with shapes (2,3,5) (5,2,3) ",
     "output_type": "error",
     "traceback": [
      "\u001b[1;31m---------------------------------------------------------------------------\u001b[0m",
      "\u001b[1;31mValueError\u001b[0m                                Traceback (most recent call last)",
      "Cell \u001b[1;32mIn[12], line 2\u001b[0m\n\u001b[0;32m      1\u001b[0m \u001b[38;5;66;03m# your answer here\u001b[39;00m\n\u001b[1;32m----> 2\u001b[0m \u001b[43ma\u001b[49m\u001b[43m \u001b[49m\u001b[38;5;241;43m+\u001b[39;49m\u001b[43m \u001b[49m\u001b[43mb\u001b[49m\n\u001b[0;32m      4\u001b[0m \u001b[38;5;124;03m'''ValueError: operands could not be broadcast together with shapes (2,3,5) (3,2,5)\u001b[39;00m\n\u001b[0;32m      5\u001b[0m \u001b[38;5;124;03mThey need to be the same shape to add each other up'''\u001b[39;00m\n",
      "\u001b[1;31mValueError\u001b[0m: operands could not be broadcast together with shapes (2,3,5) (5,2,3) "
     ]
    }
   ],
   "source": [
    "# your answer here\n",
    "a + b\n",
    "\n",
    "'''ValueError: operands could not be broadcast together with shapes (2,3,5) (3,2,5)\n",
    "They need to be the same shape to add each other up'''"
   ]
  },
  {
   "cell_type": "markdown",
   "metadata": {},
   "source": [
    "#### 9. Transpose *b* so that it has the same structure of *a* (i.e. become a 2x3x5 array). Assign the transposed array to variable *c*."
   ]
  },
  {
   "cell_type": "code",
   "execution_count": 13,
   "metadata": {},
   "outputs": [
    {
     "name": "stdout",
     "output_type": "stream",
     "text": [
      "(3, 2, 5)\n"
     ]
    }
   ],
   "source": [
    "# your code here\n",
    "c = b.transpose()\n",
    "print(c.shape) # This statement was done on purpose: Is not a 2x3x5, but 3x2x5"
   ]
  },
  {
   "cell_type": "markdown",
   "metadata": {},
   "source": [
    "#### 10. Try to add *a* and *c*. Now it should work. Assign the sum to variable *d*. But why does it work now?"
   ]
  },
  {
   "cell_type": "code",
   "execution_count": 14,
   "metadata": {},
   "outputs": [
    {
     "name": "stdout",
     "output_type": "stream",
     "text": [
      "(2, 3, 5)\n"
     ]
    }
   ],
   "source": [
    "# your code/answer here\n",
    "'d = a + c' # Returns an error, but:\n",
    "\n",
    "c = c.reshape(2,3,5)\n",
    "\n",
    "# Now we can sum a + c and assign it to d:\n",
    "d = a + c\n",
    "d\n",
    "print(d.shape)"
   ]
  },
  {
   "cell_type": "markdown",
   "metadata": {},
   "source": [
    "#### 11. Print *a* and *d*. Notice the difference and relation of the two array in terms of the values? Explain."
   ]
  },
  {
   "cell_type": "code",
   "execution_count": 15,
   "metadata": {},
   "outputs": [
    {
     "name": "stdout",
     "output_type": "stream",
     "text": [
      "a = [[[ 1.    3.83  6.66  9.48 12.31]\n",
      "  [15.14 17.97 20.79 23.62 26.45]\n",
      "  [29.28 32.1  34.93 37.76 40.59]]\n",
      "\n",
      " [[43.41 46.24 49.07 51.9  54.72]\n",
      "  [57.55 60.38 63.21 66.03 68.86]\n",
      "  [71.69 74.52 77.34 80.17 83.  ]]]\n",
      "----------------\n",
      "d = [[[ 2.    4.83  7.66 10.48 13.31]\n",
      "  [16.14 18.97 21.79 24.62 27.45]\n",
      "  [30.28 33.1  35.93 38.76 41.59]]\n",
      "\n",
      " [[44.41 47.24 50.07 52.9  55.72]\n",
      "  [58.55 61.38 64.21 67.03 69.86]\n",
      "  [72.69 75.52 78.34 81.17 84.  ]]]\n"
     ]
    },
    {
     "data": {
      "text/plain": [
       "'What I notice is each value from d is summed by 1.'"
      ]
     },
     "execution_count": 15,
     "metadata": {},
     "output_type": "execute_result"
    }
   ],
   "source": [
    "# your code\n",
    "print(f'a = {a}')\n",
    "print('----------------')\n",
    "print(f'd = {d}')\n",
    "\n",
    "# answer here\n",
    "'''What I notice is each value from d is summed by 1.'''"
   ]
  },
  {
   "cell_type": "markdown",
   "metadata": {},
   "source": [
    "#### 12. Multiply *a* and *c*. Assign the result to *e*."
   ]
  },
  {
   "cell_type": "code",
   "execution_count": 16,
   "metadata": {},
   "outputs": [
    {
     "name": "stdout",
     "output_type": "stream",
     "text": [
      "[[[ 1.    3.83  6.66  9.48 12.31]\n",
      "  [15.14 17.97 20.79 23.62 26.45]\n",
      "  [29.28 32.1  34.93 37.76 40.59]]\n",
      "\n",
      " [[43.41 46.24 49.07 51.9  54.72]\n",
      "  [57.55 60.38 63.21 66.03 68.86]\n",
      "  [71.69 74.52 77.34 80.17 83.  ]]]\n"
     ]
    }
   ],
   "source": [
    "# your code here\n",
    "e = a * c\n",
    "print(e)"
   ]
  },
  {
   "cell_type": "markdown",
   "metadata": {},
   "source": [
    "#### 13. Does *e* equal to *a*? Why or why not?\n"
   ]
  },
  {
   "cell_type": "code",
   "execution_count": 17,
   "metadata": {},
   "outputs": [
    {
     "name": "stdout",
     "output_type": "stream",
     "text": [
      "True\n",
      "True\n",
      "True\n"
     ]
    }
   ],
   "source": [
    "# your code\n",
    "print(e.ndim == a.ndim)\n",
    "print(e.shape == a.shape)\n",
    "print(e.size == a.size)"
   ]
  },
  {
   "cell_type": "code",
   "execution_count": 18,
   "metadata": {},
   "outputs": [
    {
     "name": "stdout",
     "output_type": "stream",
     "text": [
      "(2, 3, 5)\n",
      "3\n",
      "30\n"
     ]
    },
    {
     "data": {
      "text/plain": [
       "'a & e have the same shape (2,3,5), both are 3-Dimensional and contains 30 int elements'"
      ]
     },
     "execution_count": 18,
     "metadata": {},
     "output_type": "execute_result"
    }
   ],
   "source": [
    "# /answer here\n",
    "print(e.shape)\n",
    "print(e.ndim)\n",
    "print(e.size)\n",
    "'''a & e have the same shape (2,3,5), both are 3-Dimensional and contains 30 int elements'''"
   ]
  },
  {
   "cell_type": "markdown",
   "metadata": {},
   "source": [
    "#### 14. Identify the max, min, and mean values in *d*. Assign those values to variables *d_max*, *d_min* and *d_mean*."
   ]
  },
  {
   "cell_type": "code",
   "execution_count": 19,
   "metadata": {},
   "outputs": [
    {
     "name": "stdout",
     "output_type": "stream",
     "text": [
      "d = [[[ 2.    4.83  7.66 10.48 13.31]\n",
      "  [16.14 18.97 21.79 24.62 27.45]\n",
      "  [30.28 33.1  35.93 38.76 41.59]]\n",
      "\n",
      " [[44.41 47.24 50.07 52.9  55.72]\n",
      "  [58.55 61.38 64.21 67.03 69.86]\n",
      "  [72.69 75.52 78.34 81.17 84.  ]]]\n",
      "---------------\n",
      "d_max = 84.0\n",
      "d_min = 2.0\n",
      "d_mean = 43.0\n"
     ]
    }
   ],
   "source": [
    "# your code here\n",
    "print('d =', d)\n",
    "print('---------------')\n",
    "\n",
    "# Max:\n",
    "d_max = d.max()\n",
    "print(f'd_max = {d_max}')\n",
    "\n",
    "# Min:\n",
    "d_min = d.min()\n",
    "print(f'd_min = {d_min}')\n",
    "\n",
    "# Mean:\n",
    "d_mean = np.mean(d)\n",
    "print(f'd_mean = {d_mean}')"
   ]
  },
  {
   "cell_type": "markdown",
   "metadata": {},
   "source": [
    "#### 15. Now we want to label the values in *d*. First create an empty array *f* with the same shape (i.e. 2x3x5) as *d* using `np.empty`.\n"
   ]
  },
  {
   "cell_type": "code",
   "execution_count": 20,
   "metadata": {},
   "outputs": [
    {
     "name": "stdout",
     "output_type": "stream",
     "text": [
      "(2, 3, 5)\n",
      "[[[ 2.    4.83  7.66 10.48 13.31]\n",
      "  [16.14 18.97 21.79 24.62 27.45]\n",
      "  [30.28 33.1  35.93 38.76 41.59]]\n",
      "\n",
      " [[44.41 47.24 50.07 52.9  55.72]\n",
      "  [58.55 61.38 64.21 67.03 69.86]\n",
      "  [72.69 75.52 78.34 81.17 84.  ]]]\n"
     ]
    },
    {
     "data": {
      "text/plain": [
       "'It returns the same d array'"
      ]
     },
     "execution_count": 20,
     "metadata": {},
     "output_type": "execute_result"
    }
   ],
   "source": [
    "# your code here (https://numpy.org/doc/stable/reference/generated/numpy.empty.html#)\n",
    "\n",
    "print(d.shape)\n",
    "f = np.empty((2,3,5))\n",
    "print(f)\n",
    "'''It returns the same d array'''"
   ]
  },
  {
   "cell_type": "markdown",
   "metadata": {},
   "source": [
    "#### 16. Populate the values in *f*. \n",
    "\n",
    "For each value in *d*, if it's larger than *d_min* but smaller than *d_mean*, assign 25 to the corresponding value in *f*. If a value in *d* is larger than *d_mean* but smaller than *d_max*, assign 75 to the corresponding value in *f*. If a value equals to *d_mean*, assign 50 to the corresponding value in *f*. Assign 0 to the corresponding value(s) in *f* for *d_min* in *d*. Assign 100 to the corresponding value(s) in *f* for *d_max* in *d*. In the end, f should have only the following values: 0, 25, 50, 75, and 100.\n",
    "\n",
    "**Note**: you don't have to use Numpy in this question."
   ]
  },
  {
   "cell_type": "code",
   "execution_count": 21,
   "metadata": {},
   "outputs": [
    {
     "name": "stdout",
     "output_type": "stream",
     "text": [
      "f = [[[ 2.   25.   25.   25.   25.  ]\n",
      "  [25.   25.   25.   25.   25.  ]\n",
      "  [25.   25.   25.   25.   25.  ]]\n",
      "\n",
      " [[44.41 47.24 50.07 52.9  55.72]\n",
      "  [58.55 61.38 64.21 67.03 69.86]\n",
      "  [72.69 75.52 78.34 81.17 84.  ]]]\n"
     ]
    }
   ],
   "source": [
    "'''For each value in d, if it's larger than d_min but smaller than d_mean, assign 25 to the corresponding value in f.'''\n",
    "# your code here\n",
    "f[(d > d_min) & (d < d_mean)] = 25\n",
    "print(f'f = {f}')"
   ]
  },
  {
   "cell_type": "code",
   "execution_count": 22,
   "metadata": {},
   "outputs": [
    {
     "name": "stdout",
     "output_type": "stream",
     "text": [
      "f = [[[ 2. 25. 25. 25. 25.]\n",
      "  [25. 25. 25. 25. 25.]\n",
      "  [25. 25. 25. 25. 25.]]\n",
      "\n",
      " [[75. 75. 75. 75. 75.]\n",
      "  [75. 75. 75. 75. 75.]\n",
      "  [75. 75. 75. 75. 84.]]]\n"
     ]
    }
   ],
   "source": [
    "'''If a value in d is larger than d_mean but smaller than d_max, assign 75 to the corresponding value in f.'''\n",
    "# your code here\n",
    "f[(d > d_mean) & (d < d_max)] = 75\n",
    "print(f'f = {f}')"
   ]
  },
  {
   "cell_type": "code",
   "execution_count": 23,
   "metadata": {},
   "outputs": [
    {
     "name": "stdout",
     "output_type": "stream",
     "text": [
      "f = [[[ 2. 25. 25. 25. 25.]\n",
      "  [25. 25. 25. 25. 25.]\n",
      "  [25. 25. 25. 25. 25.]]\n",
      "\n",
      " [[75. 75. 75. 75. 75.]\n",
      "  [75. 75. 75. 75. 75.]\n",
      "  [75. 75. 75. 75. 84.]]]\n"
     ]
    }
   ],
   "source": [
    "'''If a value equals to d_mean, assign 50 to the corresponding value in f.'''\n",
    "# your code here\n",
    "f[d == d_mean] = 50\n",
    "print(f'f = {f}')"
   ]
  },
  {
   "cell_type": "code",
   "execution_count": 24,
   "metadata": {},
   "outputs": [
    {
     "name": "stdout",
     "output_type": "stream",
     "text": [
      "f = [[[ 0. 25. 25. 25. 25.]\n",
      "  [25. 25. 25. 25. 25.]\n",
      "  [25. 25. 25. 25. 25.]]\n",
      "\n",
      " [[75. 75. 75. 75. 75.]\n",
      "  [75. 75. 75. 75. 75.]\n",
      "  [75. 75. 75. 75. 84.]]]\n"
     ]
    }
   ],
   "source": [
    "'''# Assign 0 to the corresponding value(s) in f for d_min in d.'''\n",
    "# your code here\n",
    "f[d == d_min] = 0\n",
    "print(f'f = {f}')"
   ]
  },
  {
   "cell_type": "code",
   "execution_count": 25,
   "metadata": {},
   "outputs": [
    {
     "name": "stdout",
     "output_type": "stream",
     "text": [
      "f = [[[  0.  25.  25.  25.  25.]\n",
      "  [ 25.  25.  25.  25.  25.]\n",
      "  [ 25.  25.  25.  25.  25.]]\n",
      "\n",
      " [[ 75.  75.  75.  75.  75.]\n",
      "  [ 75.  75.  75.  75.  75.]\n",
      "  [ 75.  75.  75.  75. 100.]]]\n"
     ]
    }
   ],
   "source": [
    "'''# Assign 100 to the corresponding value(s) in f for d_max in d.'''\n",
    "# your code here\n",
    "f[d == d_max] = 100\n",
    "print(f'f = {f}')"
   ]
  },
  {
   "cell_type": "code",
   "execution_count": 26,
   "metadata": {},
   "outputs": [
    {
     "name": "stdout",
     "output_type": "stream",
     "text": [
      "f = [[[  0.  25.  25.  25.  25.]\n",
      "  [ 25.  25.  25.  25.  25.]\n",
      "  [ 25.  25.  25.  25.  25.]]\n",
      "\n",
      " [[ 75.  75.  75.  75.  75.]\n",
      "  [ 75.  75.  75.  75.  75.]\n",
      "  [ 75.  75.  75.  75. 100.]]]\n"
     ]
    }
   ],
   "source": [
    "'''# In the end, f should have only the following values: 0, 25, 50, 75, and 100.'''\n",
    "# your code here\n",
    "print(f'f = {f}')"
   ]
  },
  {
   "cell_type": "markdown",
   "metadata": {},
   "source": [
    "#### 17. Print *d* and *f*. Do you have your expected *f*?\n",
    "For instance, if your *d* is:\n",
    "```python\n",
    "[[[1.85836099, 1.67064465, 1.62576044, 1.40243961, 1.88454931],\n",
    "[1.75354326, 1.69403643, 1.36729252, 1.61415071, 1.12104981],\n",
    "[1.72201435, 1.1862918 , 1.87078449, 1.7726778 , 1.88180042]],\n",
    "[[1.44747908, 1.31673383, 1.02000951, 1.52218947, 1.97066381],\n",
    "[1.79129243, 1.74983003, 1.96028037, 1.85166831, 1.65450881],\n",
    "[1.18068344, 1.9587381 , 1.00656599, 1.93402165, 1.73514584]]]\n",
    "```\n",
    "Your *f* should be:\n",
    "```python\n",
    "[[[ 75.,  75.,  75.,  25.,  75.],\n",
    "[ 75.,  75.,  25.,  25.,  25.],\n",
    "[ 75.,  25.,  75.,  75.,  75.]],\n",
    "[[ 25.,  25.,  25.,  25., 100.],\n",
    "[ 75.,  75.,  75.,  75.,  75.],\n",
    "[ 25.,  75.,   0.,  75.,  75.]]]\n",
    "```"
   ]
  },
  {
   "cell_type": "code",
   "execution_count": 27,
   "metadata": {},
   "outputs": [
    {
     "name": "stdout",
     "output_type": "stream",
     "text": [
      "d = [[[ 2.    4.83  7.66 10.48 13.31]\n",
      "  [16.14 18.97 21.79 24.62 27.45]\n",
      "  [30.28 33.1  35.93 38.76 41.59]]\n",
      "\n",
      " [[44.41 47.24 50.07 52.9  55.72]\n",
      "  [58.55 61.38 64.21 67.03 69.86]\n",
      "  [72.69 75.52 78.34 81.17 84.  ]]]\n",
      "--------------------------------------\n",
      "f = [[[  0.  25.  25.  25.  25.]\n",
      "  [ 25.  25.  25.  25.  25.]\n",
      "  [ 25.  25.  25.  25.  25.]]\n",
      "\n",
      " [[ 75.  75.  75.  75.  75.]\n",
      "  [ 75.  75.  75.  75.  75.]\n",
      "  [ 75.  75.  75.  75. 100.]]]\n",
      "--------------------------------------\n",
      "Based on the question, I got the expected answer\n"
     ]
    }
   ],
   "source": [
    "# your code here\n",
    "print(f'd = {d}')\n",
    "print('--------------------------------------')\n",
    "print(f'f = {f}')\n",
    "print('--------------------------------------')\n",
    "print('Based on the question, I got the expected answer')"
   ]
  },
  {
   "cell_type": "markdown",
   "metadata": {},
   "source": [
    "#### 18. Bonus question: instead of using numbers (i.e. 0, 25, 50, 75, and 100), use string values  (\"A\", \"B\", \"C\", \"D\", and \"E\") to label the array elements. For the example above, the expected result is:\n",
    "\n",
    "```python\n",
    "[[[ 'D',  'D',  'D',  'B',  'D'],\n",
    "[ 'D',  'D',  'B',  'B',  'B'],\n",
    "[ 'D',  'B',  'D',  'D',  'D']],\n",
    "[[ 'B',  'B',  'B',  'B',  'E'],\n",
    "[ 'D',  'D',  'D',  'D',  'D'],\n",
    "[ 'B',  'D',   'A',  'D', 'D']]]\n",
    "```\n",
    "**Note**: you don't have to use Numpy in this question."
   ]
  },
  {
   "cell_type": "code",
   "execution_count": 29,
   "metadata": {},
   "outputs": [
    {
     "data": {
      "text/plain": [
       "array([[[  0.,  25.,  25.,  25.,  25.],\n",
       "        [ 25.,  25.,  25.,  25.,  25.],\n",
       "        [ 25.,  25.,  25.,  25.,  25.]],\n",
       "\n",
       "       [[ 75.,  75.,  75.,  75.,  75.],\n",
       "        [ 75.,  75.,  75.,  75.,  75.],\n",
       "        [ 75.,  75.,  75.,  75., 100.]]])"
      ]
     },
     "execution_count": 29,
     "metadata": {},
     "output_type": "execute_result"
    }
   ],
   "source": [
    "f"
   ]
  },
  {
   "cell_type": "code",
   "execution_count": 35,
   "metadata": {},
   "outputs": [
    {
     "data": {
      "text/plain": [
       "[[['A', 'B', 'B', 'B', 'B'],\n",
       "  ['B', 'B', 'B', 'B', 'B'],\n",
       "  ['B', 'B', 'B', 'B', 'B']],\n",
       " [['D', 'D', 'D', 'D', 'D'],\n",
       "  ['D', 'D', 'D', 'D', 'D'],\n",
       "  ['D', 'D', 'D', 'D', 'E']]]"
      ]
     },
     "execution_count": 35,
     "metadata": {},
     "output_type": "execute_result"
    }
   ],
   "source": [
    "# List comprehensions\n",
    "string_array = [[[('A' if i == 0 else 'B' if i == 25 else 'C' if i == 50 else 'D' if i == 75 else 'E') for i in row] \n",
    "                 for row in subarray] for subarray in f]\n",
    "string_array"
   ]
  }
 ],
 "metadata": {
  "kernelspec": {
   "display_name": "Python 3 (ipykernel)",
   "language": "python",
   "name": "python3"
  },
  "language_info": {
   "codemirror_mode": {
    "name": "ipython",
    "version": 3
   },
   "file_extension": ".py",
   "mimetype": "text/x-python",
   "name": "python",
   "nbconvert_exporter": "python",
   "pygments_lexer": "ipython3",
   "version": "3.10.13"
  }
 },
 "nbformat": 4,
 "nbformat_minor": 2
}
