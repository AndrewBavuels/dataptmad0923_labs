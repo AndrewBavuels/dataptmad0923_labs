{
 "cells": [
  {
   "cell_type": "markdown",
   "metadata": {},
   "source": [
    "## Challenge 2: Sets\n",
    "\n",
    "There are a lot to learn about Python Sets and the information presented in the lesson is limited due to its length. To learn Python Sets in depth you are strongly encouraged to review the W3Schools tutorial on [Python Sets Examples and Methods](https://www.w3schools.com/python/python_sets.asp) before you work on this lab. Some difficult questions in this lab have their solutions in the W3Schools tutorial.\n",
    "\n",
    "#### First, import the Python `random` library."
   ]
  },
  {
   "cell_type": "code",
   "execution_count": 1,
   "metadata": {},
   "outputs": [],
   "source": [
    "import random"
   ]
  },
  {
   "cell_type": "markdown",
   "metadata": {},
   "source": [
    "#### In the cell below, create a list named `sample_list_1` with 80 random values. \n",
    "\n",
    "Requirements:\n",
    "\n",
    "* Each value is an integer falling between 0 and 100.\n",
    "* Each value in the list is unique.\n",
    "\n",
    "Print `sample_list_1` to review its values\n",
    "\n",
    "*Hint: use `random.sample` ([reference](https://docs.python.org/3/library/random.html#random.sample)).*"
   ]
  },
  {
   "cell_type": "code",
   "execution_count": 2,
   "metadata": {},
   "outputs": [
    {
     "name": "stdout",
     "output_type": "stream",
     "text": [
      "sample_list_1 = [68, 5, 34, 42, 4, 76, 20, 82, 36, 30, 11, 51, 9, 96, 13, 33, 73, 79, 61, 54, 85, 98, 46, 10, 57, 16, 71, 50, 89, 100, 99, 87, 15, 43, 70, 94, 26, 39, 90, 23, 64, 12, 6, 40, 62, 49, 65, 37, 21, 0, 88, 17, 69, 72, 53, 67, 55, 83, 7, 22, 14, 86, 45, 35, 78, 27, 25, 48, 47, 84, 77, 75, 60, 63, 52, 74, 29, 91, 2, 93]\n",
      "count: 80\n"
     ]
    },
    {
     "data": {
      "text/plain": [
       "list"
      ]
     },
     "execution_count": 2,
     "metadata": {},
     "output_type": "execute_result"
    }
   ],
   "source": [
    "# Your code here\n",
    "# Your code here\n",
    "sample_list_1 = random.sample(range(0,101),k = 80) # with random.sample is supposed to return unique values (the range function makes the stop value NOT included)\n",
    "print('sample_list_1 =',sample_list_1)\n",
    "print('count:',len(sample_list_1))\n",
    "type(sample_list_1)"
   ]
  },
  {
   "cell_type": "markdown",
   "metadata": {},
   "source": [
    "#### Convert `sample_list_1` to a set called `set1`. Print the length of the set. Is its length still 80?"
   ]
  },
  {
   "cell_type": "code",
   "execution_count": 3,
   "metadata": {},
   "outputs": [
    {
     "name": "stdout",
     "output_type": "stream",
     "text": [
      "set1 = {0, 2, 4, 5, 6, 7, 9, 10, 11, 12, 13, 14, 15, 16, 17, 20, 21, 22, 23, 25, 26, 27, 29, 30, 33, 34, 35, 36, 37, 39, 40, 42, 43, 45, 46, 47, 48, 49, 50, 51, 52, 53, 54, 55, 57, 60, 61, 62, 63, 64, 65, 67, 68, 69, 70, 71, 72, 73, 74, 75, 76, 77, 78, 79, 82, 83, 84, 85, 86, 87, 88, 89, 90, 91, 93, 94, 96, 98, 99, 100}\n",
      "count: 80\n",
      "True\n"
     ]
    },
    {
     "data": {
      "text/plain": [
       "set"
      ]
     },
     "execution_count": 3,
     "metadata": {},
     "output_type": "execute_result"
    }
   ],
   "source": [
    "# Your code here\n",
    "set1 = set(sample_list_1)\n",
    "print('set1 =',set1)\n",
    "print('count:',len(set1))\n",
    "print(len(sample_list_1) == len(set1))\n",
    "type(set1)"
   ]
  },
  {
   "cell_type": "markdown",
   "metadata": {},
   "source": [
    "#### Create another list named `sample_list_2` with 80 random values.\n",
    "\n",
    "Requirements:\n",
    "\n",
    "* Each value is an integer falling between 0 and 100.\n",
    "* The values in the list don't have to be unique.\n",
    "\n",
    "*Hint: Use a FOR loop.*"
   ]
  },
  {
   "cell_type": "code",
   "execution_count": 4,
   "metadata": {},
   "outputs": [
    {
     "name": "stdout",
     "output_type": "stream",
     "text": [
      "sample_list_2 = [94, 35, 63, 99, 84, 3, 79, 5, 50, 79, 80, 1, 12, 38, 12, 99, 24, 26, 37, 87, 56, 7, 10, 53, 10, 62, 34, 32, 57, 10, 13, 36, 50, 63, 13, 44, 63, 3, 56, 20, 65, 77, 31, 45, 52, 22, 22, 26, 35, 32, 56, 6, 56, 46, 26, 43, 11, 12, 7, 58, 39, 98, 73, 31, 8, 80, 88, 93, 53, 3, 77, 44, 58, 89, 49, 71, 80, 21, 72, 39]\n",
      "count: 80\n"
     ]
    }
   ],
   "source": [
    "# Your code here\n",
    "sample_list_2 = []\n",
    "counter = 0\n",
    "for value in range(80):\n",
    "  value = random.randint(0, 100)  # Genera un valor aleatorio entre 0 y 100\n",
    "  sample_list_2.append(value)  # Agrega el valor a la lista\n",
    "  counter += 1\n",
    "\n",
    "print('sample_list_2 =',sample_list_2)\n",
    "print('count:', len(sample_list_2))"
   ]
  },
  {
   "cell_type": "markdown",
   "metadata": {},
   "source": [
    "#### Convert `sample_list_2` to a set called `set2`. Print the length of the set. Is its length still 80?"
   ]
  },
  {
   "cell_type": "code",
   "execution_count": 5,
   "metadata": {},
   "outputs": [
    {
     "name": "stdout",
     "output_type": "stream",
     "text": [
      "set2 = {1, 3, 5, 6, 7, 8, 10, 11, 12, 13, 20, 21, 22, 24, 26, 31, 32, 34, 35, 36, 37, 38, 39, 43, 44, 45, 46, 49, 50, 52, 53, 56, 57, 58, 62, 63, 65, 71, 72, 73, 77, 79, 80, 84, 87, 88, 89, 93, 94, 98, 99}\n",
      "count: 51\n",
      "Is its length still 80? False\n"
     ]
    }
   ],
   "source": [
    "# Your code here\n",
    "set2 = set(sample_list_2)\n",
    "print('set2 =',set2)\n",
    "print('count:', len(set2))\n",
    "print('Is its length still 80?',len(sample_list_2) == len(set2))"
   ]
  },
  {
   "cell_type": "markdown",
   "metadata": {},
   "source": [
    "#### Identify the elements present in `set1` but not in `set2`. Assign the elements to a new set named `set3`."
   ]
  },
  {
   "cell_type": "code",
   "execution_count": 6,
   "metadata": {},
   "outputs": [
    {
     "name": "stdout",
     "output_type": "stream",
     "text": [
      "set3 = {0, 2, 4, 9, 14, 15, 16, 17, 23, 25, 27, 29, 30, 33, 40, 42, 47, 48, 51, 54, 55, 60, 61, 64, 67, 68, 69, 70, 74, 75, 76, 78, 82, 83, 85, 86, 90, 91, 96, 100}\n"
     ]
    },
    {
     "data": {
      "text/plain": [
       "set"
      ]
     },
     "execution_count": 6,
     "metadata": {},
     "output_type": "execute_result"
    }
   ],
   "source": [
    "# Your code here\n",
    "set3 = set1 - set2\n",
    "print('set3 =', set3)\n",
    "type(set3)"
   ]
  },
  {
   "cell_type": "markdown",
   "metadata": {},
   "source": [
    "#### Identify the elements present in `set2` but not in `set1`. Assign the elements to a new set named `set4`."
   ]
  },
  {
   "cell_type": "code",
   "execution_count": 7,
   "metadata": {},
   "outputs": [
    {
     "name": "stdout",
     "output_type": "stream",
     "text": [
      "set4 = {32, 1, 3, 58, 38, 8, 44, 80, 24, 56, 31}\n"
     ]
    },
    {
     "data": {
      "text/plain": [
       "set"
      ]
     },
     "execution_count": 7,
     "metadata": {},
     "output_type": "execute_result"
    }
   ],
   "source": [
    "# Your code here\n",
    "set4 = set2 - set1\n",
    "print('set4 =', set4)\n",
    "type(set4)"
   ]
  },
  {
   "cell_type": "markdown",
   "metadata": {},
   "source": [
    "#### Now Identify the elements shared between `set1` and `set2`. Assign the elements to a new set named `set5`."
   ]
  },
  {
   "cell_type": "code",
   "execution_count": 8,
   "metadata": {},
   "outputs": [
    {
     "name": "stdout",
     "output_type": "stream",
     "text": [
      "set5 = {5, 6, 7, 10, 11, 12, 13, 20, 21, 22, 26, 34, 35, 36, 37, 39, 43, 45, 46, 49, 50, 52, 53, 57, 62, 63, 65, 71, 72, 73, 77, 79, 84, 87, 88, 89, 93, 94, 98, 99}\n"
     ]
    },
    {
     "data": {
      "text/plain": [
       "set"
      ]
     },
     "execution_count": 8,
     "metadata": {},
     "output_type": "execute_result"
    }
   ],
   "source": [
    "# Your code here\n",
    "set5 = set1.intersection(set2)\n",
    "print('set5 =', set5)\n",
    "type(set5)"
   ]
  },
  {
   "cell_type": "markdown",
   "metadata": {},
   "source": [
    "#### What is the relationship among the following values:\n",
    "\n",
    "* len(set1)\n",
    "* len(set2)\n",
    "* len(set3)\n",
    "* len(set4)\n",
    "* len(set5)\n",
    "\n",
    "Use a math formular to represent that relationship. Test your formular with Python code."
   ]
  },
  {
   "cell_type": "code",
   "execution_count": 10,
   "metadata": {},
   "outputs": [
    {
     "name": "stdout",
     "output_type": "stream",
     "text": [
      "set1 counts: 80 students\n",
      "set2 counts: 51 students\n",
      "set3 counts: 40 students\n",
      "set4 counts: 11 students\n",
      "set5 counts: 40 students\n"
     ]
    }
   ],
   "source": [
    "# Your code here\n",
    "\n",
    "# 1. Regarding the previous sets worked one, let's imagine the lenght of every set as the number of students per class room:\n",
    "\n",
    "print('set1 counts:',len(set1), 'students')\n",
    "print('set2 counts:',len(set2), 'students')\n",
    "print('set3 counts:',len(set3), 'students')\n",
    "print('set4 counts:',len(set4), 'students')\n",
    "print('set5 counts:',len(set5), 'students')"
   ]
  },
  {
   "cell_type": "code",
   "execution_count": 12,
   "metadata": {},
   "outputs": [
    {
     "name": "stdout",
     "output_type": "stream",
     "text": [
      "sets_len_list = [80, 51, 40, 11, 40]\n",
      "--------------------------------------\n",
      "let's sort the current list\n",
      "sets_len_list = [11, 40, 40, 51, 80]\n"
     ]
    },
    {
     "data": {
      "text/plain": [
       "list"
      ]
     },
     "execution_count": 12,
     "metadata": {},
     "output_type": "execute_result"
    }
   ],
   "source": [
    "# 2. Now, let's put it in a new list called sets_len_list and put their values in ascending order:\n",
    "\n",
    "sets_len_list = [len(set1), len(set2), len(set3), len(set4), len(set5)]\n",
    "print('sets_len_list =',sets_len_list)\n",
    "print('--------------------------------------')\n",
    "print(\"let's sort the current list\")\n",
    "sets_len_list.sort()\n",
    "print('sets_len_list =',sets_len_list)\n",
    "type(sets_len_list)"
   ]
  },
  {
   "cell_type": "code",
   "execution_count": 13,
   "metadata": {},
   "outputs": [
    {
     "name": "stdout",
     "output_type": "stream",
     "text": [
      "sets_len_list = [11, 40, 40, 51, 80]\n"
     ]
    }
   ],
   "source": [
    "# 3. Let's apply descriptive statistics:\n",
    "\n",
    "import statistics as stats\n",
    "\n",
    "sets_len_list.sort()\n",
    "print('sets_len_list =',sets_len_list)"
   ]
  },
  {
   "cell_type": "code",
   "execution_count": 14,
   "metadata": {},
   "outputs": [
    {
     "name": "stdout",
     "output_type": "stream",
     "text": [
      "mean_sets_len_list = 44.4\n"
     ]
    }
   ],
   "source": [
    "# Mean\n",
    "\n",
    "mean_sets_len_list = stats.mean(sets_len_list)\n",
    "print('mean_sets_len_list =', mean_sets_len_list)"
   ]
  },
  {
   "cell_type": "code",
   "execution_count": 15,
   "metadata": {},
   "outputs": [
    {
     "name": "stdout",
     "output_type": "stream",
     "text": [
      "median_sets_len_list = 40\n"
     ]
    }
   ],
   "source": [
    "# Median\n",
    "\n",
    "median_sets_len_list = stats.median(sets_len_list)\n",
    "print('median_sets_len_list =', median_sets_len_list)"
   ]
  },
  {
   "cell_type": "code",
   "execution_count": 16,
   "metadata": {},
   "outputs": [
    {
     "name": "stdout",
     "output_type": "stream",
     "text": [
      "max_sets_len_list = 80\n"
     ]
    }
   ],
   "source": [
    "# Bigger Set\n",
    "\n",
    "max_sets_len_list = max(sets_len_list)\n",
    "print('max_sets_len_list =',max_sets_len_list)"
   ]
  },
  {
   "cell_type": "code",
   "execution_count": 17,
   "metadata": {},
   "outputs": [
    {
     "name": "stdout",
     "output_type": "stream",
     "text": [
      "min_sets_len_list = 11\n"
     ]
    }
   ],
   "source": [
    "# Smaller Set\n",
    "\n",
    "min_sets_len_list = min(sets_len_list)\n",
    "print('min_sets_len_list =',min_sets_len_list)"
   ]
  },
  {
   "cell_type": "code",
   "execution_count": 19,
   "metadata": {},
   "outputs": [
    {
     "name": "stdout",
     "output_type": "stream",
     "text": [
      "stDev_sets_len_list = 24.83\n"
     ]
    }
   ],
   "source": [
    "# Standard deviation for Sets:\n",
    "\n",
    "stDev_sets_len_list = stats.stdev(sets_len_list)\n",
    "print('stDev_sets_len_list =',round(stDev_sets_len_list,2))"
   ]
  },
  {
   "cell_type": "code",
   "execution_count": 20,
   "metadata": {},
   "outputs": [
    {
     "name": "stdout",
     "output_type": "stream",
     "text": [
      "222\n",
      "student_per_classroom = 44\n"
     ]
    },
    {
     "data": {
      "text/plain": [
       "int"
      ]
     },
     "execution_count": 20,
     "metadata": {},
     "output_type": "execute_result"
    }
   ],
   "source": [
    "import math\n",
    "\n",
    "total_students = sum(sets_len_list)\n",
    "print(total_students)\n",
    "student_per_classroom = math.floor(total_students / len(sets_len_list))\n",
    "print('student_per_classroom =',student_per_classroom)\n",
    "type(student_per_classroom)"
   ]
  },
  {
   "cell_type": "code",
   "execution_count": 21,
   "metadata": {},
   "outputs": [
    {
     "name": "stdout",
     "output_type": "stream",
     "text": [
      "At the end, I used a math formula (math.floor) when doing the exercise as a \"classrooms analogy\" to explain the relationship among the len(x) values from sets. The standard deviation shows there is plenty of students that can fill up the classrooms with fewer ones. Besides, this allows the teaches, as much as their students to NOT get any crazier.\n"
     ]
    }
   ],
   "source": [
    "# Your explanation here:\n",
    "\n",
    "print('At the end, I used a math formula (math.floor) when doing the exercise as a \"classrooms analogy\" to explain the relationship among the len(x) values from sets. The standard deviation shows there is plenty of students that can fill up the classrooms with fewer ones. Besides, this allows the teaches, as much as their students to NOT get any crazier.')"
   ]
  },
  {
   "cell_type": "markdown",
   "metadata": {},
   "source": [
    "#### Create an empty set called `set6`."
   ]
  },
  {
   "cell_type": "code",
   "execution_count": 22,
   "metadata": {},
   "outputs": [
    {
     "data": {
      "text/plain": [
       "set"
      ]
     },
     "execution_count": 22,
     "metadata": {},
     "output_type": "execute_result"
    }
   ],
   "source": [
    "# Your code here\n",
    "set6 = set()\n",
    "type(set6)"
   ]
  },
  {
   "cell_type": "markdown",
   "metadata": {},
   "source": [
    "#### Add `set3` and `set5` to `set6` using the Python Set `update` method."
   ]
  },
  {
   "cell_type": "code",
   "execution_count": 24,
   "metadata": {},
   "outputs": [
    {
     "name": "stdout",
     "output_type": "stream",
     "text": [
      "set6 = {0, 2, 4, 5, 6, 7, 9, 10, 11, 12, 13, 14, 15, 16, 17, 20, 21, 22, 23, 25, 26, 27, 29, 30, 33, 34, 35, 36, 37, 39, 40, 42, 43, 45, 46, 47, 48, 49, 50, 51, 52, 53, 54, 55, 57, 60, 61, 62, 63, 64, 65, 67, 68, 69, 70, 71, 72, 73, 74, 75, 76, 77, 78, 79, 82, 83, 84, 85, 86, 87, 88, 89, 90, 91, 93, 94, 96, 98, 99, 100}\n"
     ]
    },
    {
     "data": {
      "text/plain": [
       "set"
      ]
     },
     "execution_count": 24,
     "metadata": {},
     "output_type": "execute_result"
    }
   ],
   "source": [
    "# Your code here (https://thedataschools.com/python/set/update-metodo-conjuntos/)\n",
    "\n",
    "set6.update(set3,set5)\n",
    "print('set6 =',set6)\n",
    "type(set6)"
   ]
  },
  {
   "cell_type": "markdown",
   "metadata": {},
   "source": [
    "#### Check if `set1` and `set6` are equal."
   ]
  },
  {
   "cell_type": "code",
   "execution_count": 25,
   "metadata": {},
   "outputs": [
    {
     "name": "stdout",
     "output_type": "stream",
     "text": [
      "set1 and set6 are equal? True\n"
     ]
    }
   ],
   "source": [
    "# Your code here\n",
    "print('set1 and set6 are equal?', set1 == set6)"
   ]
  },
  {
   "cell_type": "markdown",
   "metadata": {},
   "source": [
    "#### Check if `set1` contains `set2` using the Python Set `issubset` method. Then check if `set1` contains `set3`.*"
   ]
  },
  {
   "cell_type": "code",
   "execution_count": 29,
   "metadata": {},
   "outputs": [
    {
     "name": "stdout",
     "output_type": "stream",
     "text": [
      "count set1:  80\n",
      "count set2:  51\n",
      "¿set2 es subconjunto de set1? False\n",
      "¿set3 es subconjunto de set1? True\n"
     ]
    }
   ],
   "source": [
    "# Your code here (https://thedataschools.com/python/set/issubset-metodo-conjuntos/)\n",
    "\n",
    "print('count set1: ', len(set1))\n",
    "print('count set2: ', len(set2))\n",
    "\n",
    "# Se considera subconjunto (subset) cuando es menor que el otro conjunto:\n",
    "# set2 = 60 < set1 = 80\n",
    "\n",
    "x = set2.issubset(set1) # ¿set2 es subconjunto de set1?\n",
    "print('¿set2 es subconjunto de set1?',x)\n",
    "\n",
    "y = set3.issubset(set1)  # ¿set3 es subconjunto de set1?\n",
    "print('¿set3 es subconjunto de set1?',y)"
   ]
  },
  {
   "cell_type": "markdown",
   "metadata": {},
   "source": [
    "#### Using the Python Set `union` method, aggregate `set3`, `set4`, and `set5`. Then aggregate `set1` and `set2`. \n",
    "\n",
    "#### Check if the aggregated values are equal."
   ]
  },
  {
   "cell_type": "code",
   "execution_count": 30,
   "metadata": {},
   "outputs": [
    {
     "name": "stdout",
     "output_type": "stream",
     "text": [
      "union1 = {0, 1, 2, 3, 4, 5, 6, 7, 8, 9, 10, 11, 12, 13, 14, 15, 16, 17, 20, 21, 22, 23, 24, 25, 26, 27, 29, 30, 31, 32, 33, 34, 35, 36, 37, 38, 39, 40, 42, 43, 44, 45, 46, 47, 48, 49, 50, 51, 52, 53, 54, 55, 56, 57, 58, 60, 61, 62, 63, 64, 65, 67, 68, 69, 70, 71, 72, 73, 74, 75, 76, 77, 78, 79, 80, 82, 83, 84, 85, 86, 87, 88, 89, 90, 91, 93, 94, 96, 98, 99, 100}\n",
      "union2 = {0, 1, 2, 3, 4, 5, 6, 7, 8, 9, 10, 11, 12, 13, 14, 15, 16, 17, 20, 21, 22, 23, 24, 25, 26, 27, 29, 30, 31, 32, 33, 34, 35, 36, 37, 38, 39, 40, 42, 43, 44, 45, 46, 47, 48, 49, 50, 51, 52, 53, 54, 55, 56, 57, 58, 60, 61, 62, 63, 64, 65, 67, 68, 69, 70, 71, 72, 73, 74, 75, 76, 77, 78, 79, 80, 82, 83, 84, 85, 86, 87, 88, 89, 90, 91, 93, 94, 96, 98, 99, 100}\n",
      "Aggregated values are equal? True\n"
     ]
    }
   ],
   "source": [
    "# Your code here\n",
    "\n",
    "union1 = set3.union(set4.union(set5)) # Unir set3 con set4 y con set5\n",
    "print('union1 =', union1)\n",
    "\n",
    "union2 = union1.union(set1.union(set2))\n",
    "print('union2 =', union2)\n",
    "\n",
    "print('Aggregated values are equal?', union1 == union2)"
   ]
  },
  {
   "cell_type": "markdown",
   "metadata": {},
   "source": [
    "#### Using the `pop` method, remove the first element from `set1`."
   ]
  },
  {
   "cell_type": "code",
   "execution_count": 32,
   "metadata": {},
   "outputs": [
    {
     "name": "stdout",
     "output_type": "stream",
     "text": [
      "set1 = {4, 5, 6, 7, 9, 10, 11, 12, 13, 14, 15, 16, 17, 20, 21, 22, 23, 25, 26, 27, 29, 30, 33, 34, 35, 36, 37, 39, 40, 42, 43, 45, 46, 47, 48, 49, 50, 51, 52, 53, 54, 55, 57, 60, 61, 62, 63, 64, 65, 67, 68, 69, 70, 71, 72, 73, 74, 75, 76, 77, 78, 79, 82, 83, 84, 85, 86, 87, 88, 89, 90, 91, 93, 94, 96, 98, 99, 100}\n",
      "set1 count: 78\n"
     ]
    }
   ],
   "source": [
    "# Your code here\n",
    "\n",
    "set1.pop()\n",
    "print('set1 =', set1)\n",
    "print('set1 count:',len(set1))"
   ]
  },
  {
   "cell_type": "markdown",
   "metadata": {},
   "source": [
    "#### Remove every element in the following list from `set1` if they are present in the set. Print the remaining elements.\n",
    "\n",
    "```\n",
    "list_to_remove = [1, 9, 11, 19, 21, 29, 31, 39, 41, 49, 51, 59, 61, 69, 71, 79, 81, 89, 91, 99]\n",
    "```"
   ]
  },
  {
   "cell_type": "code",
   "execution_count": 33,
   "metadata": {},
   "outputs": [
    {
     "name": "stdout",
     "output_type": "stream",
     "text": [
      "set1 = {1, 4, 5, 6, 7, 9, 10, 11, 12, 13, 14, 15, 16, 17, 20, 21, 22, 23, 25, 26, 27, 29, 30, 33, 34, 35, 36, 37, 39, 40, 42, 43, 45, 46, 47, 48, 49, 50, 51, 52, 53, 54, 55, 57, 60, 61, 62, 63, 64, 65, 67, 68, 69, 70, 71, 72, 73, 74, 75, 76, 77, 78, 79, 82, 83, 84, 85, 86, 87, 88, 89, 90, 91, 93, 94, 96, 98, 99, 100}\n",
      "new_set = {4, 5, 6, 7, 10, 12, 13, 14, 15, 16, 17, 20, 22, 23, 25, 26, 27, 30, 33, 34, 35, 36, 37, 40, 42, 43, 45, 46, 47, 48, 50, 52, 53, 54, 55, 57, 60, 62, 63, 64, 65, 67, 68, 70, 72, 73, 74, 75, 76, 77, 78, 82, 83, 84, 85, 86, 87, 88, 90, 93, 94, 96, 98, 100}\n"
     ]
    },
    {
     "data": {
      "text/plain": [
       "set"
      ]
     },
     "execution_count": 33,
     "metadata": {},
     "output_type": "execute_result"
    }
   ],
   "source": [
    "# Your code here\n",
    "set1.add(1)\n",
    "print('set1 =',set1)\n",
    "list_to_remove = set([1, 9, 11, 19, 21, 29, 31, 39, 41, 49, 51, 59, 61, 69, 71, 79, 81, 89, 91, 99])\n",
    "\n",
    "new_set = set1 - list_to_remove\n",
    "print('new_set =',new_set)\n",
    "type(set1)"
   ]
  }
 ],
 "metadata": {
  "kernelspec": {
   "display_name": "Python 3 (ipykernel)",
   "language": "python",
   "name": "python3"
  },
  "language_info": {
   "codemirror_mode": {
    "name": "ipython",
    "version": 3
   },
   "file_extension": ".py",
   "mimetype": "text/x-python",
   "name": "python",
   "nbconvert_exporter": "python",
   "pygments_lexer": "ipython3",
   "version": "3.10.13"
  }
 },
 "nbformat": 4,
 "nbformat_minor": 2
}
